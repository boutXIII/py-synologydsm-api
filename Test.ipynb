{
 "cells": [
  {
   "cell_type": "code",
   "execution_count": 1,
   "metadata": {},
   "outputs": [
    {
     "name": "stdout",
     "output_type": "stream",
     "text": [
      "Creating Valid API\n",
      "=== Video ===\n",
      "{'data': {'device': [{'id': 'upnp:uuid:1a3f00b6-7690-4e28-b27b-51677699c0b2', 'now_playing': '', 'password_protected': False, 'seekable': True, 'title': '[TV] Samsung Q8 Series (65)', 'type': 'upnp', 'volume_adjustable': True}]}, 'success': True}\n"
     ]
    },
    {
     "ename": "TypeError",
     "evalue": "__init__() missing 1 required positional argument: 'poster'",
     "output_type": "error",
     "traceback": [
      "\u001b[1;31m---------------------------------------------------------------------------\u001b[0m",
      "\u001b[1;31mTypeError\u001b[0m                                 Traceback (most recent call last)",
      "\u001b[1;32md:\\Documents\\Home Assistant\\dev\\py-synologydsm-api\\Test.ipynb Cell 1\u001b[0m line \u001b[0;36m3\n\u001b[0;32m     <a href='vscode-notebook-cell:/d%3A/Documents/Home%20Assistant/dev/py-synologydsm-api/Test.ipynb#W1sZmlsZQ%3D%3D?line=33'>34</a>\u001b[0m         \u001b[39mprint\u001b[39m(api\u001b[39m.\u001b[39mvideo_station\u001b[39m.\u001b[39mget_url_poster(movie))\n\u001b[0;32m     <a href='vscode-notebook-cell:/d%3A/Documents/Home%20Assistant/dev/py-synologydsm-api/Test.ipynb#W1sZmlsZQ%3D%3D?line=34'>35</a>\u001b[0m         \u001b[39mprint\u001b[39m(api\u001b[39m.\u001b[39mvideo_station\u001b[39m.\u001b[39mget_metadata_movie(movie))\n\u001b[1;32m---> <a href='vscode-notebook-cell:/d%3A/Documents/Home%20Assistant/dev/py-synologydsm-api/Test.ipynb#W1sZmlsZQ%3D%3D?line=36'>37</a>\u001b[0m \u001b[39mawait\u001b[39;00m main()\n",
      "\u001b[1;32md:\\Documents\\Home Assistant\\dev\\py-synologydsm-api\\Test.ipynb Cell 1\u001b[0m line \u001b[0;36m1\n\u001b[0;32m      <a href='vscode-notebook-cell:/d%3A/Documents/Home%20Assistant/dev/py-synologydsm-api/Test.ipynb#W1sZmlsZQ%3D%3D?line=5'>6</a>\u001b[0m \u001b[39mprint\u001b[39m(\u001b[39m\"\u001b[39m\u001b[39mCreating Valid API\u001b[39m\u001b[39m\"\u001b[39m)\n\u001b[0;32m      <a href='vscode-notebook-cell:/d%3A/Documents/Home%20Assistant/dev/py-synologydsm-api/Test.ipynb#W1sZmlsZQ%3D%3D?line=6'>7</a>\u001b[0m \u001b[39masync\u001b[39;00m \u001b[39mwith\u001b[39;00m aiohttp\u001b[39m.\u001b[39mClientSession(\n\u001b[0;32m      <a href='vscode-notebook-cell:/d%3A/Documents/Home%20Assistant/dev/py-synologydsm-api/Test.ipynb#W1sZmlsZQ%3D%3D?line=7'>8</a>\u001b[0m     connector\u001b[39m=\u001b[39maiohttp\u001b[39m.\u001b[39mTCPConnector()\n\u001b[0;32m      <a href='vscode-notebook-cell:/d%3A/Documents/Home%20Assistant/dev/py-synologydsm-api/Test.ipynb#W1sZmlsZQ%3D%3D?line=8'>9</a>\u001b[0m ) \u001b[39mas\u001b[39;00m session:\n\u001b[1;32m---> <a href='vscode-notebook-cell:/d%3A/Documents/Home%20Assistant/dev/py-synologydsm-api/Test.ipynb#W1sZmlsZQ%3D%3D?line=9'>10</a>\u001b[0m     \u001b[39mawait\u001b[39;00m do(session)\n",
      "\u001b[1;32md:\\Documents\\Home Assistant\\dev\\py-synologydsm-api\\Test.ipynb Cell 1\u001b[0m line \u001b[0;36m2\n\u001b[0;32m     <a href='vscode-notebook-cell:/d%3A/Documents/Home%20Assistant/dev/py-synologydsm-api/Test.ipynb#W1sZmlsZQ%3D%3D?line=26'>27</a>\u001b[0m devices \u001b[39m=\u001b[39m \u001b[39mawait\u001b[39;00m api\u001b[39m.\u001b[39mvideo_station\u001b[39m.\u001b[39mget_devices()\n\u001b[0;32m     <a href='vscode-notebook-cell:/d%3A/Documents/Home%20Assistant/dev/py-synologydsm-api/Test.ipynb#W1sZmlsZQ%3D%3D?line=27'>28</a>\u001b[0m \u001b[39mprint\u001b[39m(devices)\n\u001b[1;32m---> <a href='vscode-notebook-cell:/d%3A/Documents/Home%20Assistant/dev/py-synologydsm-api/Test.ipynb#W1sZmlsZQ%3D%3D?line=28'>29</a>\u001b[0m movies \u001b[39m=\u001b[39m \u001b[39mawait\u001b[39;00m api\u001b[39m.\u001b[39mvideo_station\u001b[39m.\u001b[39mget_list_movie(\u001b[39m0\u001b[39m, \u001b[39m2\u001b[39m, \u001b[39mTrue\u001b[39;00m)\n\u001b[0;32m     <a href='vscode-notebook-cell:/d%3A/Documents/Home%20Assistant/dev/py-synologydsm-api/Test.ipynb#W1sZmlsZQ%3D%3D?line=29'>30</a>\u001b[0m \u001b[39mfor\u001b[39;00m movie \u001b[39min\u001b[39;00m movies:\n\u001b[0;32m     <a href='vscode-notebook-cell:/d%3A/Documents/Home%20Assistant/dev/py-synologydsm-api/Test.ipynb#W1sZmlsZQ%3D%3D?line=30'>31</a>\u001b[0m     \u001b[39mprint\u001b[39m(\u001b[39mf\u001b[39m\u001b[39m\"\u001b[39m\u001b[39m'\u001b[39m\u001b[39m{\u001b[39;00mmovie\u001b[39m.\u001b[39mmovie_id\u001b[39m}\u001b[39;00m\u001b[39m'\u001b[39m\u001b[39m has \u001b[39m\u001b[39m{\u001b[39;00mmovie\u001b[39m.\u001b[39mtitle\u001b[39m}\u001b[39;00m\u001b[39m\"\u001b[39m)\n",
      "File \u001b[1;32mD:\\Documents\\Home Assistant\\dev\\py-synologydsm-api\\src\\synology_dsm\\api\\video_station\\__init__.py:41\u001b[0m, in \u001b[0;36mSynoVideoStation.get_list_movie\u001b[1;34m(self, offset, limit, sort_by, sort_direction, library_id)\u001b[0m\n\u001b[0;32m     29\u001b[0m     sort_direction \u001b[39m=\u001b[39m \u001b[39m'\u001b[39m\u001b[39masc\u001b[39m\u001b[39m'\u001b[39m\n\u001b[0;32m     30\u001b[0m raw_data \u001b[39m=\u001b[39m \u001b[39mawait\u001b[39;00m \u001b[39mself\u001b[39m\u001b[39m.\u001b[39m_dsm\u001b[39m.\u001b[39mget(\n\u001b[0;32m     31\u001b[0m     \u001b[39mself\u001b[39m\u001b[39m.\u001b[39mMOVIE_API_KEY, \u001b[39m\"\u001b[39m\u001b[39mlist\u001b[39m\u001b[39m\"\u001b[39m, \n\u001b[0;32m     32\u001b[0m     {\n\u001b[1;32m   (...)\u001b[0m\n\u001b[0;32m     39\u001b[0m     }\n\u001b[0;32m     40\u001b[0m )\n\u001b[1;32m---> 41\u001b[0m \u001b[39mreturn\u001b[39;00m \u001b[39mself\u001b[39;49m\u001b[39m.\u001b[39;49m_raw_data_to_movies(raw_data)\n",
      "File \u001b[1;32mD:\\Documents\\Home Assistant\\dev\\py-synologydsm-api\\src\\synology_dsm\\api\\video_station\\__init__.py:57\u001b[0m, in \u001b[0;36mSynoVideoStation._raw_data_to_movies\u001b[1;34m(self, raw_data)\u001b[0m\n\u001b[0;32m     52\u001b[0m     poster_str \u001b[39m=\u001b[39m movie[\u001b[39m\"\u001b[39m\u001b[39madditional\u001b[39m\u001b[39m\"\u001b[39m][\u001b[39m\"\u001b[39m\u001b[39mextra\u001b[39m\u001b[39m\"\u001b[39m]\n\u001b[0;32m     53\u001b[0m     poster \u001b[39m=\u001b[39m json\u001b[39m.\u001b[39mloads(poster_str)\n\u001b[0;32m     56\u001b[0m     movies\u001b[39m.\u001b[39mappend(\n\u001b[1;32m---> 57\u001b[0m         SynoVideoStationMovie(\n\u001b[0;32m     58\u001b[0m             movie[\u001b[39m\"\u001b[39;49m\u001b[39mid\u001b[39;49m\u001b[39m\"\u001b[39;49m],\n\u001b[0;32m     59\u001b[0m             movie[\u001b[39m\"\u001b[39;49m\u001b[39mtitle\u001b[39;49m\u001b[39m\"\u001b[39;49m],\n\u001b[0;32m     60\u001b[0m             movie[\u001b[39m\"\u001b[39;49m\u001b[39madditional\u001b[39;49m\u001b[39m\"\u001b[39;49m][\u001b[39m\"\u001b[39;49m\u001b[39msummary\u001b[39;49m\u001b[39m\"\u001b[39;49m]\n\u001b[0;32m     61\u001b[0m             \u001b[39m# poster[\"com.synology.TheMovieDb\"][\"poster\"]\u001b[39;49;00m\n\u001b[0;32m     62\u001b[0m         )\n\u001b[0;32m     63\u001b[0m     )\n\u001b[0;32m     64\u001b[0m \u001b[39mreturn\u001b[39;00m movies\n",
      "\u001b[1;31mTypeError\u001b[0m: __init__() missing 1 required positional argument: 'poster'"
     ]
    }
   ],
   "source": [
    "\n",
    "import asyncio\n",
    "import aiohttp\n",
    "from synology_dsm import SynologyDSM\n",
    "\n",
    "async def main():\n",
    "    print(\"Creating Valid API\")\n",
    "    async with aiohttp.ClientSession(\n",
    "        connector=aiohttp.TCPConnector()\n",
    "    ) as session:\n",
    "        await do(session)\n",
    "\n",
    "async def do(session: aiohttp.ClientSession):\n",
    "    api = SynologyDSM(session, \"naschauray.synology.me\", \"5001\", \"valentin\", \"bonjourjesuisSpiderman\")\n",
    "    await api.login()\n",
    "\n",
    "    # print(\"=== Photo ===\")\n",
    "    # albums = await api.photos.get_albums(0,2)\n",
    "    # for album in albums:\n",
    "    #     print(f\"'{album.name}' has {album.item_count} items\")\n",
    "\n",
    "    #     items = await api.photos.get_items_from_album(album,0 ,5)\n",
    "    #     for item in items:\n",
    "    #         print(f\"{item.file_name}\")\n",
    "    #         print(f\"{item.file_name}\")\n",
    "\n",
    "    print(\"=== Video ===\")\n",
    "    devices = await api.video_station.get_devices()\n",
    "    print(devices)\n",
    "    movies = await api.video_station.get_list_movie(0, 2, True)\n",
    "    for movie in movies:\n",
    "        print(f\"'{movie.movie_id}' has {movie.title}\")\n",
    "        print(f\"'{movie.summary}'\")\n",
    "        # print(f\"'{movie.poster}'\")\n",
    "        print(api.video_station.get_url_poster(movie))\n",
    "        print(api.video_station.get_metadata_movie(movie))\n",
    "\n",
    "await main()"
   ]
  }
 ],
 "metadata": {
  "kernelspec": {
   "display_name": ".venv",
   "language": "python",
   "name": "python3"
  },
  "language_info": {
   "codemirror_mode": {
    "name": "ipython",
    "version": 3
   },
   "file_extension": ".py",
   "mimetype": "text/x-python",
   "name": "python",
   "nbconvert_exporter": "python",
   "pygments_lexer": "ipython3",
   "version": "3.9.13"
  }
 },
 "nbformat": 4,
 "nbformat_minor": 2
}
